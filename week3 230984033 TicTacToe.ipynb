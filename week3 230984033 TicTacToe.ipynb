{
 "cells": [
  {
   "cell_type": "markdown",
   "id": "kv2bPn6IiHnM",
   "metadata": {
    "id": "kv2bPn6IiHnM"
   },
   "source": [
    "WEEK 3"
   ]
  },
  {
   "cell_type": "markdown",
   "id": "N-5V4HIXh-N6",
   "metadata": {
    "id": "N-5V4HIXh-N6"
   },
   "source": [
    "Write a python program to define and implement a tic-tac-toe game with one human player. Solve\n",
    "the game using the built in algorithms and compare the solutions.\n",
    "a. Iterative Deepening\n",
    "b. Depth first search"
   ]
  },
  {
   "cell_type": "code",
   "execution_count": 1,
   "id": "d3ad0e68",
   "metadata": {
    "colab": {
     "base_uri": "https://localhost:8080/"
    },
    "executionInfo": {
     "elapsed": 14540,
     "status": "ok",
     "timestamp": 1706504467215,
     "user": {
      "displayName": "Skanda Bhat",
      "userId": "09308111867522909873"
     },
     "user_tz": -330
    },
    "id": "d3ad0e68",
    "outputId": "107dd033-21d1-4b82-dc29-8afff48470ef"
   },
   "outputs": [
    {
     "name": "stdout",
     "output_type": "stream",
     "text": [
      "Collecting easyAI\n",
      "  Downloading easyAI-2.0.12-py3-none-any.whl (42 kB)\n",
      "\u001b[2K     \u001b[90m━━━━━━━━━━━━━━━━━━━━━━━━━━━━━━━━━━━━━━━━\u001b[0m \u001b[32m42.2/42.2 kB\u001b[0m \u001b[31m1.0 MB/s\u001b[0m eta \u001b[36m0:00:00\u001b[0m\n",
      "\u001b[?25hRequirement already satisfied: numpy in /usr/local/lib/python3.10/dist-packages (from easyAI) (1.23.5)\n",
      "Installing collected packages: easyAI\n",
      "Successfully installed easyAI-2.0.12\n"
     ]
    }
   ],
   "source": [
    "pip install easyAI"
   ]
  },
  {
   "cell_type": "code",
   "execution_count": 2,
   "id": "29f5a4f0",
   "metadata": {
    "executionInfo": {
     "elapsed": 4,
     "status": "ok",
     "timestamp": 1706504467215,
     "user": {
      "displayName": "Skanda Bhat",
      "userId": "09308111867522909873"
     },
     "user_tz": -330
    },
    "id": "29f5a4f0"
   },
   "outputs": [],
   "source": [
    "#libraries\n",
    "from easyAI import TwoPlayerGame, Human_Player, AI_Player, solve_with_iterative_deepening, solve_with_depth_first_search\n",
    "from easyAI.AI import Negamax"
   ]
  },
  {
   "cell_type": "code",
   "execution_count": 3,
   "id": "9006a1f8",
   "metadata": {
    "executionInfo": {
     "elapsed": 3,
     "status": "ok",
     "timestamp": 1706504467215,
     "user": {
      "displayName": "Skanda Bhat",
      "userId": "09308111867522909873"
     },
     "user_tz": -330
    },
    "id": "9006a1f8"
   },
   "outputs": [],
   "source": [
    "class TicTacToe(TwoPlayerGame):\n",
    "    \"\"\"The board positions are numbered as follows:\n",
    "    1 2 3\n",
    "    4 5 6\n",
    "    7 8 9\n",
    "    \"\"\"\n",
    "\n",
    "    def __init__(self, players=None):\n",
    "        self.players = players\n",
    "        self.board = [0 for i in range(9)]\n",
    "        self.current_player = 1\n",
    "\n",
    "    def possible_moves(self):\n",
    "        return [i + 1 for i, e in enumerate(self.board) if e == 0]\n",
    "\n",
    "    def make_move(self, move):\n",
    "        self.board[int(move) - 1] = self.current_player\n",
    "\n",
    "    def unmake_move(self, move):\n",
    "        self.board[int(move) - 1] = 0\n",
    "\n",
    "    def lose(self):\n",
    "        \"\"\" Has the opponent \"three in line ?\" \"\"\"\n",
    "        return any([all([(self.board[c - 1] == self.opponent_index) for c in line])\n",
    "                    for line in [[1, 2, 3],[4, 5, 6],[7, 8, 9],\n",
    "                    [1, 4, 7], [2, 5, 8],[3, 6, 9],\n",
    "                    [1, 5, 9],[3, 5, 7]]])\n",
    "\n",
    "    def is_over(self): #check whether the game has ended\n",
    "        return (self.possible_moves() == []) or self.lose()\n",
    "\n",
    "    def show(self):\n",
    "        print(\"\\n\"+ \"\\n\".join([\" \".join([[\".\", \"O\", \"X\"][self.board[3 * j + i]] for i in range(3)])\n",
    "                    for j in range(3)]))\n",
    "\n",
    "    def scoring(self):\n",
    "        return -100 if self.lose() else 0\n"
   ]
  },
  {
   "cell_type": "code",
   "execution_count": 4,
   "id": "fde53ec8",
   "metadata": {
    "executionInfo": {
     "elapsed": 3,
     "status": "ok",
     "timestamp": 1706504467215,
     "user": {
      "displayName": "Skanda Bhat",
      "userId": "09308111867522909873"
     },
     "user_tz": -330
    },
    "id": "fde53ec8"
   },
   "outputs": [],
   "source": [
    "\n",
    "def main(algo):\n",
    "  ai = Negamax(9)\n",
    "  if algo == 'id':\n",
    "      result = solve_with_iterative_deepening(game=TicTacToe(players=[AI_Player(ai), Human_Player()]),\n",
    "                                              ai_depths=range(2, 10), win_score=100)\n",
    "  elif algo == 'dfs':\n",
    "      result = solve_with_depth_first_search(game=TicTacToe(players=[AI_Player(ai), Human_Player()]), win_score=100)\n",
    "  else:\n",
    "      print(\"Invalid algorithm.\")\n",
    "  return result"
   ]
  },
  {
   "cell_type": "code",
   "execution_count": 5,
   "id": "403e609a",
   "metadata": {
    "colab": {
     "base_uri": "https://localhost:8080/"
    },
    "executionInfo": {
     "elapsed": 1319,
     "status": "ok",
     "timestamp": 1706504468532,
     "user": {
      "displayName": "Skanda Bhat",
      "userId": "09308111867522909873"
     },
     "user_tz": -330
    },
    "id": "403e609a",
    "outputId": "18571f74-af82-4351-8704-d7b4016913b7"
   },
   "outputs": [
    {
     "name": "stdout",
     "output_type": "stream",
     "text": [
      "d:2, a:0, m:1\n",
      "d:3, a:0, m:1\n",
      "d:4, a:0, m:1\n",
      "d:5, a:0, m:1\n",
      "d:6, a:0, m:1\n",
      "d:7, a:0, m:1\n",
      "d:8, a:0, m:1\n",
      "d:9, a:0, m:1\n",
      "Result:  (0, 9, 1)\n",
      "Time Taken: 1.02s\n"
     ]
    }
   ],
   "source": [
    "import time\n",
    "start = time.time()\n",
    "idres = main('id')\n",
    "end = time.time()\n",
    "print('Result: ', idres)\n",
    "print(str.format('Time Taken: {:.2f}s', end-start))"
   ]
  },
  {
   "cell_type": "code",
   "execution_count": 6,
   "id": "428dfe52",
   "metadata": {
    "colab": {
     "base_uri": "https://localhost:8080/"
    },
    "executionInfo": {
     "elapsed": 1719,
     "status": "ok",
     "timestamp": 1706504470248,
     "user": {
      "displayName": "Skanda Bhat",
      "userId": "09308111867522909873"
     },
     "user_tz": -330
    },
    "id": "428dfe52",
    "outputId": "dbf469b8-d411-44e2-ec1b-e3f069647cc1"
   },
   "outputs": [
    {
     "name": "stdout",
     "output_type": "stream",
     "text": [
      "Result:  0\n",
      "Time Taken: 2.19s\n"
     ]
    }
   ],
   "source": [
    "import time\n",
    "start = time.time()\n",
    "dfsres = main('dfs')\n",
    "end = time.time()\n",
    "print('Result: ', dfsres)\n",
    "print(str.format('Time Taken: {:.2f}s', end-start))"
   ]
  },
  {
   "cell_type": "code",
   "execution_count": 7,
   "id": "f1f1486f",
   "metadata": {
    "executionInfo": {
     "elapsed": 534,
     "status": "ok",
     "timestamp": 1706504470778,
     "user": {
      "displayName": "Skanda Bhat",
      "userId": "09308111867522909873"
     },
     "user_tz": -330
    },
    "id": "f1f1486f"
   },
   "outputs": [],
   "source": [
    "\n",
    "game = TicTacToe(players=[AI_Player(Negamax(9)), Human_Player()])"
   ]
  },
  {
   "cell_type": "code",
   "execution_count": 8,
   "id": "c178029d",
   "metadata": {
    "colab": {
     "base_uri": "https://localhost:8080/"
    },
    "executionInfo": {
     "elapsed": 10,
     "status": "ok",
     "timestamp": 1706504470778,
     "user": {
      "displayName": "Skanda Bhat",
      "userId": "09308111867522909873"
     },
     "user_tz": -330
    },
    "id": "c178029d",
    "outputId": "63b634ac-7082-44bd-d357-8200912fa254"
   },
   "outputs": [
    {
     "data": {
      "text/plain": [
       "1"
      ]
     },
     "execution_count": 8,
     "metadata": {},
     "output_type": "execute_result"
    }
   ],
   "source": [
    "\n",
    "game.get_move()"
   ]
  },
  {
   "cell_type": "code",
   "execution_count": 9,
   "id": "00114296",
   "metadata": {
    "colab": {
     "base_uri": "https://localhost:8080/"
    },
    "executionInfo": {
     "elapsed": 9,
     "status": "ok",
     "timestamp": 1706504470778,
     "user": {
      "displayName": "Skanda Bhat",
      "userId": "09308111867522909873"
     },
     "user_tz": -330
    },
    "id": "00114296",
    "outputId": "147821e9-2e73-4dbf-bf32-8f128ff571eb"
   },
   "outputs": [
    {
     "name": "stdout",
     "output_type": "stream",
     "text": [
      "\n",
      ". O .\n",
      ". . .\n",
      ". . .\n"
     ]
    }
   ],
   "source": [
    "game.play_move(2)\n",
    "game.show()"
   ]
  },
  {
   "cell_type": "code",
   "execution_count": 10,
   "id": "3953f0fc",
   "metadata": {
    "colab": {
     "base_uri": "https://localhost:8080/"
    },
    "executionInfo": {
     "elapsed": 35003,
     "status": "ok",
     "timestamp": 1706504505774,
     "user": {
      "displayName": "Skanda Bhat",
      "userId": "09308111867522909873"
     },
     "user_tz": -330
    },
    "id": "3953f0fc",
    "outputId": "1e2c8fd2-7d36-476b-fd47-dc4ebe634184"
   },
   "outputs": [
    {
     "name": "stdout",
     "output_type": "stream",
     "text": [
      "\n",
      "Player 2 what do you play ? 1\n"
     ]
    },
    {
     "data": {
      "text/plain": [
       "1"
      ]
     },
     "execution_count": 10,
     "metadata": {},
     "output_type": "execute_result"
    }
   ],
   "source": [
    "\n",
    "game.get_move()\n"
   ]
  },
  {
   "cell_type": "code",
   "execution_count": 11,
   "id": "59fe1179",
   "metadata": {
    "colab": {
     "base_uri": "https://localhost:8080/"
    },
    "executionInfo": {
     "elapsed": 27,
     "status": "ok",
     "timestamp": 1706504505775,
     "user": {
      "displayName": "Skanda Bhat",
      "userId": "09308111867522909873"
     },
     "user_tz": -330
    },
    "id": "59fe1179",
    "outputId": "97981d77-ea6a-4498-93f3-af3214fc1322"
   },
   "outputs": [
    {
     "name": "stdout",
     "output_type": "stream",
     "text": [
      "\n",
      "X O .\n",
      ". . .\n",
      ". . .\n"
     ]
    }
   ],
   "source": [
    "game.play_move(1)\n",
    "game.show()"
   ]
  },
  {
   "cell_type": "code",
   "execution_count": 12,
   "id": "96c7ecf8",
   "metadata": {
    "colab": {
     "base_uri": "https://localhost:8080/"
    },
    "executionInfo": {
     "elapsed": 25,
     "status": "ok",
     "timestamp": 1706504505775,
     "user": {
      "displayName": "Skanda Bhat",
      "userId": "09308111867522909873"
     },
     "user_tz": -330
    },
    "id": "96c7ecf8",
    "outputId": "edc66921-1072-4e4c-d2ca-bafa9f391b6a"
   },
   "outputs": [
    {
     "data": {
      "text/plain": [
       "4"
      ]
     },
     "execution_count": 12,
     "metadata": {},
     "output_type": "execute_result"
    }
   ],
   "source": [
    "game.get_move()"
   ]
  },
  {
   "cell_type": "code",
   "execution_count": 13,
   "id": "316cdd39",
   "metadata": {
    "colab": {
     "base_uri": "https://localhost:8080/"
    },
    "executionInfo": {
     "elapsed": 23,
     "status": "ok",
     "timestamp": 1706504505775,
     "user": {
      "displayName": "Skanda Bhat",
      "userId": "09308111867522909873"
     },
     "user_tz": -330
    },
    "id": "316cdd39",
    "outputId": "893492a0-1469-426b-95cb-7a6541df5fa6"
   },
   "outputs": [
    {
     "name": "stdout",
     "output_type": "stream",
     "text": [
      "\n",
      "X O O\n",
      ". . .\n",
      ". . .\n"
     ]
    }
   ],
   "source": [
    "game.play_move(3)\n",
    "game.show()"
   ]
  },
  {
   "cell_type": "code",
   "execution_count": 14,
   "id": "82e3a4e4",
   "metadata": {
    "colab": {
     "base_uri": "https://localhost:8080/"
    },
    "executionInfo": {
     "elapsed": 31890,
     "status": "ok",
     "timestamp": 1706504537644,
     "user": {
      "displayName": "Skanda Bhat",
      "userId": "09308111867522909873"
     },
     "user_tz": -330
    },
    "id": "82e3a4e4",
    "outputId": "5d4942c1-dccc-4796-c8a0-f2d0ff7023ea"
   },
   "outputs": [
    {
     "name": "stdout",
     "output_type": "stream",
     "text": [
      "\n",
      "Player 2 what do you play ? 4\n"
     ]
    },
    {
     "data": {
      "text/plain": [
       "4"
      ]
     },
     "execution_count": 14,
     "metadata": {},
     "output_type": "execute_result"
    }
   ],
   "source": [
    "game.get_move()"
   ]
  },
  {
   "cell_type": "code",
   "execution_count": 15,
   "id": "29a856ac",
   "metadata": {
    "colab": {
     "base_uri": "https://localhost:8080/"
    },
    "executionInfo": {
     "elapsed": 25,
     "status": "ok",
     "timestamp": 1706504537644,
     "user": {
      "displayName": "Skanda Bhat",
      "userId": "09308111867522909873"
     },
     "user_tz": -330
    },
    "id": "29a856ac",
    "outputId": "88943d80-a8ae-445f-9e40-de6c6986aa17"
   },
   "outputs": [
    {
     "name": "stdout",
     "output_type": "stream",
     "text": [
      "\n",
      "X O O\n",
      "X . .\n",
      ". . .\n"
     ]
    }
   ],
   "source": [
    "game.play_move(4)\n",
    "game.show()"
   ]
  },
  {
   "cell_type": "code",
   "execution_count": 16,
   "id": "5d3a9847",
   "metadata": {
    "colab": {
     "base_uri": "https://localhost:8080/"
    },
    "executionInfo": {
     "elapsed": 23,
     "status": "ok",
     "timestamp": 1706504537644,
     "user": {
      "displayName": "Skanda Bhat",
      "userId": "09308111867522909873"
     },
     "user_tz": -330
    },
    "id": "5d3a9847",
    "outputId": "2616e055-2b7c-45ed-f4e6-b062605ea346"
   },
   "outputs": [
    {
     "data": {
      "text/plain": [
       "7"
      ]
     },
     "execution_count": 16,
     "metadata": {},
     "output_type": "execute_result"
    }
   ],
   "source": [
    "game.get_move()"
   ]
  },
  {
   "cell_type": "code",
   "execution_count": 17,
   "id": "d485ced3",
   "metadata": {
    "colab": {
     "base_uri": "https://localhost:8080/"
    },
    "executionInfo": {
     "elapsed": 21,
     "status": "ok",
     "timestamp": 1706504537644,
     "user": {
      "displayName": "Skanda Bhat",
      "userId": "09308111867522909873"
     },
     "user_tz": -330
    },
    "id": "d485ced3",
    "outputId": "b76bcccf-40d6-48f7-f1f0-b198937e586f"
   },
   "outputs": [
    {
     "name": "stdout",
     "output_type": "stream",
     "text": [
      "\n",
      "X O O\n",
      "X . .\n",
      "O . .\n"
     ]
    }
   ],
   "source": [
    "game.play_move(7)\n",
    "game.show()"
   ]
  },
  {
   "cell_type": "code",
   "execution_count": 18,
   "id": "9b450c2e",
   "metadata": {
    "colab": {
     "base_uri": "https://localhost:8080/"
    },
    "executionInfo": {
     "elapsed": 24937,
     "status": "ok",
     "timestamp": 1706504562565,
     "user": {
      "displayName": "Skanda Bhat",
      "userId": "09308111867522909873"
     },
     "user_tz": -330
    },
    "id": "9b450c2e",
    "outputId": "e48d95ef-a6cd-4af3-9642-0d54b5617692"
   },
   "outputs": [
    {
     "name": "stdout",
     "output_type": "stream",
     "text": [
      "\n",
      "Player 2 what do you play ? 5\n"
     ]
    },
    {
     "data": {
      "text/plain": [
       "5"
      ]
     },
     "execution_count": 18,
     "metadata": {},
     "output_type": "execute_result"
    }
   ],
   "source": [
    "game.get_move()"
   ]
  },
  {
   "cell_type": "code",
   "execution_count": 19,
   "id": "ea046702",
   "metadata": {
    "colab": {
     "base_uri": "https://localhost:8080/"
    },
    "executionInfo": {
     "elapsed": 23,
     "status": "ok",
     "timestamp": 1706504562565,
     "user": {
      "displayName": "Skanda Bhat",
      "userId": "09308111867522909873"
     },
     "user_tz": -330
    },
    "id": "ea046702",
    "outputId": "e2f30202-3966-49f1-8df4-88f202c72401"
   },
   "outputs": [
    {
     "name": "stdout",
     "output_type": "stream",
     "text": [
      "\n",
      "X O O\n",
      "X X .\n",
      "O . .\n"
     ]
    }
   ],
   "source": [
    "game.play_move(5)\n",
    "game.show()"
   ]
  },
  {
   "cell_type": "code",
   "execution_count": 20,
   "id": "0b6f6cd4",
   "metadata": {
    "colab": {
     "base_uri": "https://localhost:8080/"
    },
    "executionInfo": {
     "elapsed": 18,
     "status": "ok",
     "timestamp": 1706504562565,
     "user": {
      "displayName": "Skanda Bhat",
      "userId": "09308111867522909873"
     },
     "user_tz": -330
    },
    "id": "0b6f6cd4",
    "outputId": "812784ba-26ec-46b2-cf19-15553bde02cb"
   },
   "outputs": [
    {
     "data": {
      "text/plain": [
       "6"
      ]
     },
     "execution_count": 20,
     "metadata": {},
     "output_type": "execute_result"
    }
   ],
   "source": [
    "game.get_move()"
   ]
  },
  {
   "cell_type": "code",
   "execution_count": 21,
   "id": "1d9e037d",
   "metadata": {
    "colab": {
     "base_uri": "https://localhost:8080/"
    },
    "executionInfo": {
     "elapsed": 18,
     "status": "ok",
     "timestamp": 1706504562565,
     "user": {
      "displayName": "Skanda Bhat",
      "userId": "09308111867522909873"
     },
     "user_tz": -330
    },
    "id": "1d9e037d",
    "outputId": "4f069236-540d-4c3d-d256-969851ba1ce4"
   },
   "outputs": [
    {
     "name": "stdout",
     "output_type": "stream",
     "text": [
      "\n",
      "X O O\n",
      "X X O\n",
      "O . .\n"
     ]
    }
   ],
   "source": [
    "game.play_move(6)\n",
    "game.show()"
   ]
  },
  {
   "cell_type": "code",
   "execution_count": 22,
   "id": "7350cfef",
   "metadata": {
    "colab": {
     "base_uri": "https://localhost:8080/"
    },
    "executionInfo": {
     "elapsed": 15448,
     "status": "ok",
     "timestamp": 1706504577998,
     "user": {
      "displayName": "Skanda Bhat",
      "userId": "09308111867522909873"
     },
     "user_tz": -330
    },
    "id": "7350cfef",
    "outputId": "a754a5c9-d286-455b-968c-daf2b9215790"
   },
   "outputs": [
    {
     "name": "stdout",
     "output_type": "stream",
     "text": [
      "\n",
      "Player 2 what do you play ? 9\n"
     ]
    },
    {
     "data": {
      "text/plain": [
       "9"
      ]
     },
     "execution_count": 22,
     "metadata": {},
     "output_type": "execute_result"
    }
   ],
   "source": [
    "game.get_move()"
   ]
  },
  {
   "cell_type": "code",
   "execution_count": 23,
   "id": "11fd2ae7",
   "metadata": {
    "colab": {
     "base_uri": "https://localhost:8080/"
    },
    "executionInfo": {
     "elapsed": 6,
     "status": "ok",
     "timestamp": 1706504577998,
     "user": {
      "displayName": "Skanda Bhat",
      "userId": "09308111867522909873"
     },
     "user_tz": -330
    },
    "id": "11fd2ae7",
    "outputId": "faa5ccf2-11c4-4f3b-c7d5-a1a9b3f26d71"
   },
   "outputs": [
    {
     "name": "stdout",
     "output_type": "stream",
     "text": [
      "\n",
      "X O O\n",
      "X X O\n",
      "O . X\n"
     ]
    }
   ],
   "source": [
    "game.play_move(9)\n",
    "game.show()"
   ]
  }
 ],
 "metadata": {
  "colab": {
   "provenance": []
  },
  "kernelspec": {
   "display_name": "Python 3 (ipykernel)",
   "language": "python",
   "name": "python3"
  },
  "language_info": {
   "codemirror_mode": {
    "name": "ipython",
    "version": 3
   },
   "file_extension": ".py",
   "mimetype": "text/x-python",
   "name": "python",
   "nbconvert_exporter": "python",
   "pygments_lexer": "ipython3",
   "version": "3.11.4"
  }
 },
 "nbformat": 4,
 "nbformat_minor": 5
}
